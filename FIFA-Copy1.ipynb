{
 "cells": [
  {
   "cell_type": "code",
   "execution_count": 1,
   "id": "8a520f41",
   "metadata": {},
   "outputs": [],
   "source": [
    "#File: https://www.pewresearch.org/internet/2015/12/21/home-broadband-2015/\n",
    "\n",
    "import pandas as pd\n",
    "import matplotlib"
   ]
  },
  {
   "cell_type": "code",
   "execution_count": 2,
   "id": "721a06be",
   "metadata": {
    "scrolled": false
   },
   "outputs": [
    {
     "name": "stdout",
     "output_type": "stream",
     "text": [
      "         country confederation  population_share  tv_audience_share  \\\n",
      "0  United States      CONCACAF               4.5                4.3   \n",
      "1          Japan           AFC               1.9                4.9   \n",
      "2          China           AFC              19.5               14.8   \n",
      "3        Germany          UEFA               1.2                2.9   \n",
      "4         Brazil      CONMEBOL               2.8                7.1   \n",
      "\n",
      "   gdp_weighted_share  \n",
      "0                11.3  \n",
      "1                 9.1  \n",
      "2                 7.3  \n",
      "3                 6.3  \n",
      "4                 5.4  \n"
     ]
    }
   ],
   "source": [
    "file = \"fifa_countries_audience.csv\"\n",
    "df = pd.read_csv(file)\n",
    "print(df.head())"
   ]
  },
  {
   "cell_type": "code",
   "execution_count": 3,
   "id": "bfba1ef3",
   "metadata": {
    "scrolled": false
   },
   "outputs": [
    {
     "name": "stdout",
     "output_type": "stream",
     "text": [
      "         country confederation  population_share  tv_audience_share  \\\n",
      "0  United States      CONCACAF               4.5                4.3   \n",
      "1          Japan           AFC               1.9                4.9   \n",
      "2          China           AFC              19.5               14.8   \n",
      "3        Germany          UEFA               1.2                2.9   \n",
      "4         Brazil      CONMEBOL               2.8                7.1   \n",
      "\n",
      "   gdp_weighted_share  \n",
      "0                11.3  \n",
      "1                 9.1  \n",
      "2                 7.3  \n",
      "3                 6.3  \n",
      "4                 5.4  \n"
     ]
    }
   ],
   "source": [
    "#Limit dataset to countries that have at values greater than 0\n",
    "\n",
    "df = df[df[\"population_share\"] > 0.1] \n",
    "print(df.head())"
   ]
  },
  {
   "cell_type": "code",
   "execution_count": 4,
   "id": "72d68d14",
   "metadata": {
    "scrolled": true
   },
   "outputs": [
    {
     "name": "stdout",
     "output_type": "stream",
     "text": [
      "               population_share\n",
      "confederation                  \n",
      "AFC                    2.320000\n",
      "CAF                    0.492857\n",
      "CONCACAF               1.420000\n",
      "CONMEBOL               0.771429\n",
      "UEFA                   0.662500\n"
     ]
    }
   ],
   "source": [
    "population_share_mean = df.groupby(\"confederation\")[[\"population_share\"]].mean()\n",
    "print(population_share_mean)"
   ]
  },
  {
   "cell_type": "code",
   "execution_count": 5,
   "id": "55fb98b6",
   "metadata": {
    "scrolled": true
   },
   "outputs": [
    {
     "name": "stdout",
     "output_type": "stream",
     "text": [
      "               tv_audience_share\n",
      "confederation                   \n",
      "AFC                     1.656000\n",
      "CAF                     0.303571\n",
      "CONCACAF                1.700000\n",
      "CONMEBOL                1.871429\n",
      "UEFA                    1.331250\n"
     ]
    }
   ],
   "source": [
    "tv_audience_share_mean = df.groupby(\"confederation\")[[\"tv_audience_share\"]].mean()\n",
    "print(tv_audience_share_mean)"
   ]
  },
  {
   "cell_type": "code",
   "execution_count": 6,
   "id": "099b1827",
   "metadata": {},
   "outputs": [
    {
     "name": "stdout",
     "output_type": "stream",
     "text": [
      "               gdp_weighted_share\n",
      "confederation                    \n",
      "AFC                      1.192000\n",
      "CAF                      0.092857\n",
      "CONCACAF                 3.060000\n",
      "CONMEBOL                 1.442857\n",
      "UEFA                     2.087500\n"
     ]
    }
   ],
   "source": [
    "gdp_weighted_share_mean = df.groupby(\"confederation\")[[\"gdp_weighted_share\"]].mean()\n",
    "print(gdp_weighted_share_mean)"
   ]
  },
  {
   "cell_type": "code",
   "execution_count": 7,
   "id": "f4446c6b",
   "metadata": {},
   "outputs": [
    {
     "data": {
      "text/plain": [
       "<AxesSubplot:title={'center':'Mean GDP by Confederation'}, xlabel='Confederation', ylabel='GDP'>"
      ]
     },
     "execution_count": 7,
     "metadata": {},
     "output_type": "execute_result"
    },
    {
     "data": {
      "image/png": "[encoded data removed]",
      "text/plain": [
       "<Figure size 432x288 with 1 Axes>"
      ]
     },
     "metadata": {
      "needs_background": "light"
     },
     "output_type": "display_data"
    }
   ],
   "source": [
    "gdp_weighted_share_mean.plot(kind = \"bar\", title = \"Mean GDP by Confederation\", ylabel = \"GDP\", xlabel = \"Confederation\")"
   ]
  },
  {
   "cell_type": "code",
   "execution_count": 8,
   "id": "5656ff1e",
   "metadata": {},
   "outputs": [
    {
     "data": {
      "text/plain": [
       "<AxesSubplot:title={'center':'Mean TV Audience by Confederation'}, xlabel='Confederation', ylabel='Audience'>"
      ]
     },
     "execution_count": 8,
     "metadata": {},
     "output_type": "execute_result"
    },
    {
     "data": {
      "image/png": "[encoded data removed]",
      "text/plain": [
       "<Figure size 432x288 with 1 Axes>"
      ]
     },
     "metadata": {
      "needs_background": "light"
     },
     "output_type": "display_data"
    }
   ],
   "source": [
    "tv_audience_share_mean.plot(kind = \"bar\", title = \"Mean TV Audience by Confederation\", ylabel = \"Audience\", xlabel = \"Confederation\")"
   ]
  },
  {
   "cell_type": "code",
   "execution_count": 9,
   "id": "9c042f02",
   "metadata": {
    "scrolled": false
   },
   "outputs": [
    {
     "data": {
      "text/plain": [
       "<AxesSubplot:title={'center':'Mean Population by Confederation'}, xlabel='Confederation', ylabel='Population'>"
      ]
     },
     "execution_count": 9,
     "metadata": {},
     "output_type": "execute_result"
    },
    {
     "data": {
      "image/png": "[encoded data removed]",
      "text/plain": [
       "<Figure size 432x288 with 1 Axes>"
      ]
     },
     "metadata": {
      "needs_background": "light"
     },
     "output_type": "display_data"
    }
   ],
   "source": [
    "population_share_mean.plot(kind = \"bar\", title = \"Mean Population by Confederation\", ylabel = \"Population\", xlabel = \"Confederation\")"
   ]
  },
  {
   "cell_type": "code",
   "execution_count": 10,
   "id": "7916dfa4",
   "metadata": {
    "scrolled": true
   },
   "outputs": [
    {
     "name": "stdout",
     "output_type": "stream",
     "text": [
      "['country', 'confederation', 'population_share', 'tv_audience_share', 'gdp_weighted_share']\n"
     ]
    }
   ],
   "source": [
    "#Print head to know which headings/columns you want to use\n",
    "print(list(df))"
   ]
  },
  {
   "cell_type": "code",
   "execution_count": 18,
   "id": "7691fe2e",
   "metadata": {
    "scrolled": false
   },
   "outputs": [
    {
     "name": "stdout",
     "output_type": "stream",
     "text": [
      "Which column do you want to compare first? confederation\n",
      "Which is the second column? population_share\n",
      "               population_share\n",
      "confederation                  \n",
      "AFC                    2.320000\n",
      "CAF                    0.492857\n",
      "CONCACAF               1.420000\n",
      "CONMEBOL               0.771429\n",
      "UEFA                   0.662500\n",
      "Mean population_share by confederation\n"
     ]
    },
    {
     "data": {
      "text/plain": [
       "<AxesSubplot:title={'center':'Mean population_share by confederation'}, xlabel='confederation', ylabel='population_share'>"
      ]
     },
     "execution_count": 18,
     "metadata": {},
     "output_type": "execute_result"
    },
    {
     "data": {
      "image/png": "[encoded data removed]",
      "text/plain": [
       "<Figure size 432x288 with 1 Axes>"
      ]
     },
     "metadata": {
      "needs_background": "light"
     },
     "output_type": "display_data"
    }
   ],
   "source": [
    "#New Coding: asking for input\n",
    "\n",
    "#Asking for input for columns that are going to be compared\n",
    "group1 = input(\"Which column do you want to compare first? \")\n",
    "group2 = input(\"Which is the second column? \")\n",
    "\n",
    "mean = df.groupby(group1)[[group2]].mean()\n",
    "print(mean)\n",
    "\n",
    "heading = (\"Mean {} by {}\".format(group2, group1))\n",
    "print(heading)\n",
    "\n",
    "mean.plot(kind = \"bar\", title = heading,  ylabel = group2, xlabel = group1)"
   ]
  },
  {
   "cell_type": "code",
   "execution_count": null,
   "id": "a3d7e9d7",
   "metadata": {},
   "outputs": [],
   "source": []
  }
 ],
 "metadata": {
  "kernelspec": {
   "display_name": "Python 3 (ipykernel)",
   "language": "python",
   "name": "python3"
  },
  "language_info": {
   "codemirror_mode": {
    "name": "ipython",
    "version": 3
   },
   "file_extension": ".py",
   "mimetype": "text/x-python",
   "name": "python",
   "nbconvert_exporter": "python",
   "pygments_lexer": "ipython3",
   "version": "3.9.12"
  }
 },
 "nbformat": 4,
 "nbformat_minor": 5
}
