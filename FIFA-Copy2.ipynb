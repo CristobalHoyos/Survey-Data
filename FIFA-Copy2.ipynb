{
 "cells": [
  {
   "cell_type": "code",
   "execution_count": 1,
   "id": "8a520f41",
   "metadata": {},
   "outputs": [],
   "source": [
    "#File: https://www.pewresearch.org/internet/2015/12/21/home-broadband-2015/\n",
    "\n",
    "import pandas as pd\n",
    "import matplotlib"
   ]
  },
  {
   "cell_type": "code",
   "execution_count": 2,
   "id": "721a06be",
   "metadata": {
    "scrolled": false
   },
   "outputs": [
    {
     "name": "stdout",
     "output_type": "stream",
     "text": [
      "         country confederation  population_share  tv_audience_share  \\\n",
      "0  United States      CONCACAF               4.5                4.3   \n",
      "1          Japan           AFC               1.9                4.9   \n",
      "2          China           AFC              19.5               14.8   \n",
      "3        Germany          UEFA               1.2                2.9   \n",
      "4         Brazil      CONMEBOL               2.8                7.1   \n",
      "\n",
      "   gdp_weighted_share  \n",
      "0                11.3  \n",
      "1                 9.1  \n",
      "2                 7.3  \n",
      "3                 6.3  \n",
      "4                 5.4  \n"
     ]
    }
   ],
   "source": [
    "file = \"fifa_countries_audience.csv\"\n",
    "df = pd.read_csv(file)\n",
    "print(df.head())"
   ]
  },
  {
   "cell_type": "code",
   "execution_count": 3,
   "id": "bfba1ef3",
   "metadata": {
    "scrolled": false
   },
   "outputs": [
    {
     "name": "stdout",
     "output_type": "stream",
     "text": [
      "         country confederation  population_share  tv_audience_share  \\\n",
      "0  United States      CONCACAF               4.5                4.3   \n",
      "1          Japan           AFC               1.9                4.9   \n",
      "2          China           AFC              19.5               14.8   \n",
      "3        Germany          UEFA               1.2                2.9   \n",
      "4         Brazil      CONMEBOL               2.8                7.1   \n",
      "\n",
      "   gdp_weighted_share  \n",
      "0                11.3  \n",
      "1                 9.1  \n",
      "2                 7.3  \n",
      "3                 6.3  \n",
      "4                 5.4  \n"
     ]
    }
   ],
   "source": [
    "#Limit dataset to countries that have at values greater than 0\n",
    "\n",
    "df = df[df[\"population_share\"] > 0.1] \n",
    "print(df.head())"
   ]
  },
  {
   "cell_type": "code",
   "execution_count": 4,
   "id": "72d68d14",
   "metadata": {
    "scrolled": true
   },
   "outputs": [
    {
     "name": "stdout",
     "output_type": "stream",
     "text": [
      "Median:                population_share\n",
      "confederation                  \n",
      "AFC                        0.50\n",
      "CAF                        0.30\n",
      "CONCACAF                   0.50\n",
      "CONMEBOL                   0.40\n",
      "UEFA                       0.65\n",
      "Mean:                population_share\n",
      "confederation                  \n",
      "AFC                    2.320000\n",
      "CAF                    0.492857\n",
      "CONCACAF               1.420000\n",
      "CONMEBOL               0.771429\n",
      "UEFA                   0.662500\n"
     ]
    }
   ],
   "source": [
    "population_share_mean = df.groupby(\"confederation\")[[\"population_share\"]].mean()\n",
    "population_share_median = df.groupby(\"confederation\")[[\"population_share\"]].median()\n",
    "print(\"Median:\",population_share_median)\n",
    "print(\"Mean:\",population_share_mean)"
   ]
  },
  {
   "cell_type": "code",
   "execution_count": 5,
   "id": "55fb98b6",
   "metadata": {
    "scrolled": true
   },
   "outputs": [
    {
     "name": "stdout",
     "output_type": "stream",
     "text": [
      "Median:                tv_audience_share\n",
      "confederation                   \n",
      "AFC                         0.50\n",
      "CAF                         0.10\n",
      "CONCACAF                    0.50\n",
      "CONMEBOL                    1.00\n",
      "UEFA                        1.05\n",
      "Mean:                tv_audience_share\n",
      "confederation                   \n",
      "AFC                     1.656000\n",
      "CAF                     0.303571\n",
      "CONCACAF                1.700000\n",
      "CONMEBOL                1.871429\n",
      "UEFA                    1.331250\n"
     ]
    }
   ],
   "source": [
    "tv_audience_share_mean = df.groupby(\"confederation\")[[\"tv_audience_share\"]].mean()\n",
    "tv_audience_share_median = df.groupby(\"confederation\")[[\"tv_audience_share\"]].median()\n",
    "print(\"Median:\",tv_audience_share_median)\n",
    "print(\"Mean:\",tv_audience_share_mean)"
   ]
  },
  {
   "cell_type": "code",
   "execution_count": 6,
   "id": "099b1827",
   "metadata": {},
   "outputs": [
    {
     "name": "stdout",
     "output_type": "stream",
     "text": [
      "Median:                gdp_weighted_share\n",
      "confederation                    \n",
      "AFC                           0.4\n",
      "CAF                           0.0\n",
      "CONCACAF                      1.0\n",
      "CONMEBOL                      0.9\n",
      "UEFA                          1.4\n",
      "Mean:                gdp_weighted_share\n",
      "confederation                    \n",
      "AFC                      1.192000\n",
      "CAF                      0.092857\n",
      "CONCACAF                 3.060000\n",
      "CONMEBOL                 1.442857\n",
      "UEFA                     2.087500\n"
     ]
    }
   ],
   "source": [
    "gdp_weighted_share_mean = df.groupby(\"confederation\")[[\"gdp_weighted_share\"]].mean()\n",
    "gdp_weighted_share_median = df.groupby(\"confederation\")[[\"gdp_weighted_share\"]].median()\n",
    "print(\"Median:\",gdp_weighted_share_median)\n",
    "print(\"Mean:\",gdp_weighted_share_mean)"
   ]
  },
  {
   "cell_type": "code",
   "execution_count": 7,
   "id": "f4446c6b",
   "metadata": {},
   "outputs": [
    {
     "data": {
      "text/plain": [
       "<AxesSubplot:title={'center':'Mean GDP by Confederation'}, xlabel='Confederation', ylabel='GDP'>"
      ]
     },
     "execution_count": 7,
     "metadata": {},
     "output_type": "execute_result"
    },
    {
     "data": {
      "image/png": "[encoded data removed]",
      "text/plain": [
       "<Figure size 432x288 with 1 Axes>"
      ]
     },
     "metadata": {
      "needs_background": "light"
     },
     "output_type": "display_data"
    }
   ],
   "source": [
    "gdp_weighted_share_mean.plot(kind = \"bar\", title = \"Mean GDP by Confederation\", ylabel = \"GDP\", xlabel = \"Confederation\")"
   ]
  },
  {
   "cell_type": "code",
   "execution_count": 8,
   "id": "5656ff1e",
   "metadata": {},
   "outputs": [
    {
     "data": {
      "text/plain": [
       "<AxesSubplot:title={'center':'Mean TV Audience by Confederation'}, xlabel='Confederation', ylabel='Audience'>"
      ]
     },
     "execution_count": 8,
     "metadata": {},
     "output_type": "execute_result"
    },
    {
     "data": {
      "image/png": "[encoded data removed]",
      "text/plain": [
       "<Figure size 432x288 with 1 Axes>"
      ]
     },
     "metadata": {
      "needs_background": "light"
     },
     "output_type": "display_data"
    }
   ],
   "source": [
    "tv_audience_share_mean.plot(kind = \"bar\", title = \"Mean TV Audience by Confederation\", ylabel = \"Audience\", xlabel = \"Confederation\")"
   ]
  },
  {
   "cell_type": "code",
   "execution_count": 9,
   "id": "9c042f02",
   "metadata": {
    "scrolled": false
   },
   "outputs": [
    {
     "data": {
      "text/plain": [
       "<AxesSubplot:title={'center':'Mean Population by Confederation'}, xlabel='Confederation', ylabel='Population'>"
      ]
     },
     "execution_count": 9,
     "metadata": {},
     "output_type": "execute_result"
    },
    {
     "data": {
      "image/png": "[encoded data removed]",
      "text/plain": [
       "<Figure size 432x288 with 1 Axes>"
      ]
     },
     "metadata": {
      "needs_background": "light"
     },
     "output_type": "display_data"
    }
   ],
   "source": [
    "population_share_mean.plot(kind = \"bar\", title = \"Mean Population by Confederation\", ylabel = \"Population\", xlabel = \"Confederation\")"
   ]
  },
  {
   "cell_type": "code",
   "execution_count": 10,
   "id": "7916dfa4",
   "metadata": {
    "scrolled": true
   },
   "outputs": [
    {
     "name": "stdout",
     "output_type": "stream",
     "text": [
      "['country', 'confederation', 'population_share', 'tv_audience_share', 'gdp_weighted_share']\n"
     ]
    }
   ],
   "source": [
    "#Print head to know which headings/columns you want to use\n",
    "print(list(df))"
   ]
  },
  {
   "cell_type": "code",
   "execution_count": 11,
   "id": "7691fe2e",
   "metadata": {
    "scrolled": false
   },
   "outputs": [
    {
     "name": "stdout",
     "output_type": "stream",
     "text": [
      "Which column do you want to compare first? tv_audience_share\n",
      "Which is the second column? population_share\n",
      "                   population_share\n",
      "tv_audience_share                  \n",
      "0.0                        0.200000\n",
      "0.1                        0.553333\n",
      "0.2                        0.525000\n",
      "0.3                        0.288889\n",
      "0.4                        0.700000\n",
      "0.5                        0.357143\n",
      "0.6                        0.250000\n",
      "0.7                        0.600000\n",
      "0.8                        0.750000\n",
      "0.9                        0.700000\n",
      "1.0                        0.400000\n",
      "1.2                        0.600000\n",
      "1.3                        0.700000\n",
      "1.5                        0.600000\n",
      "1.6                        0.700000\n",
      "1.8                        0.700000\n",
      "2.0                        9.250000\n",
      "2.1                        0.900000\n",
      "2.3                        1.100000\n",
      "2.4                        1.000000\n",
      "2.6                        1.800000\n",
      "2.9                        1.200000\n",
      "3.1                        2.100000\n",
      "3.2                        1.700000\n",
      "4.3                        4.500000\n",
      "4.9                        1.900000\n",
      "6.7                        3.500000\n",
      "7.1                        2.800000\n",
      "14.8                      19.500000\n",
      "Mean population_share by tv_audience_share\n"
     ]
    },
    {
     "data": {
      "text/plain": [
       "<AxesSubplot:title={'center':'Mean population_share by tv_audience_share'}, xlabel='tv_audience_share', ylabel='population_share'>"
      ]
     },
     "execution_count": 11,
     "metadata": {},
     "output_type": "execute_result"
    },
    {
     "data": {
      "image/png": "[encoded data removed]",
      "text/plain": [
       "<Figure size 432x288 with 1 Axes>"
      ]
     },
     "metadata": {
      "needs_background": "light"
     },
     "output_type": "display_data"
    }
   ],
   "source": [
    "#New Coding: asking for input\n",
    "\n",
    "#Asking for input for columns that are going to be compared\n",
    "group1 = input(\"Which column do you want to compare first? \")\n",
    "group2 = input(\"Which is the second column? \")\n",
    "\n",
    "mean = df.groupby(group1)[[group2]].mean()\n",
    "print(mean)\n",
    "\n",
    "heading = (\"Mean {} by {}\".format(group2, group1))\n",
    "print(heading)\n",
    "\n",
    "mean.plot(kind = \"bar\", title = heading,  ylabel = group2, xlabel = group1)"
   ]
  }
 ],
 "metadata": {
  "kernelspec": {
   "display_name": "Python 3 (ipykernel)",
   "language": "python",
   "name": "python3"
  },
  "language_info": {
   "codemirror_mode": {
    "name": "ipython",
    "version": 3
   },
   "file_extension": ".py",
   "mimetype": "text/x-python",
   "name": "python",
   "nbconvert_exporter": "python",
   "pygments_lexer": "ipython3",
   "version": "3.9.12"
  }
 },
 "nbformat": 4,
 "nbformat_minor": 5
}
